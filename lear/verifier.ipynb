{
 "cells": [
  {
   "cell_type": "code",
   "execution_count": 1,
   "metadata": {},
   "outputs": [],
   "source": [
    "import re"
   ]
  },
  {
   "cell_type": "code",
   "execution_count": 2,
   "metadata": {},
   "outputs": [],
   "source": [
    "allowed_commands = {\n",
    "            'fd', 'forward',\n",
    "            'rt', 'right',\n",
    "            'lt', 'left'\n",
    "        }\n",
    "\n",
    "\n",
    "allowed_reporters = {\n",
    "            'random',\n",
    "            'random-float',\n",
    "            'sin',\n",
    "            'cos'\n",
    "        }\n",
    "\n",
    "dangerous_primitives = {\n",
    "            'die', 'kill', 'create', 'hatch', 'sprout',\n",
    "            'ask', 'of', 'with',\n",
    "            'set', 'let',\n",
    "            'run', 'runresult',\n",
    "            'file', 'import', 'export',\n",
    "            'python',\n",
    "            'clear', 'reset', 'setup', 'go'\n",
    "        }\n",
    "\n",
    "\n",
    "arithmetic_operators = {'+', '-', '*', '/', '^'}"
   ]
  },
  {
   "cell_type": "code",
   "execution_count": null,
   "metadata": {},
   "outputs": [
    {
     "data": {
      "text/plain": [
       "'fd 1 rt 90 lt random 45 die'"
      ]
     },
     "execution_count": 19,
     "metadata": {},
     "output_type": "execute_result"
    }
   ],
   "source": [
    "# Remove comments from code\n",
    "\n",
    "rule = \"fd 1 rt 90 lt random 45 ;\"\n",
    "\n",
    "op = re.sub(r';.*$', '', rule, flags=re.MULTILINE)\n",
    "rule = ' '.join(op.split())\n",
    "\n",
    "rule"
   ]
  },
  {
   "cell_type": "code",
   "execution_count": 23,
   "metadata": {},
   "outputs": [
    {
     "name": "stdout",
     "output_type": "stream",
     "text": [
      "False\n"
     ]
    }
   ],
   "source": [
    "# Check if code is valid - False if code is unsafe else True\n",
    "words = set(re.findall(r'\\b\\w+\\b', rule.lower()))\n",
    "dangerous = words.intersection(dangerous_primitives)\n",
    "\n",
    "if dangerous:\n",
    "    print(False)\n",
    "else:\n",
    "    print(True)"
   ]
  },
  {
   "cell_type": "code",
   "execution_count": 24,
   "metadata": {},
   "outputs": [
    {
     "name": "stdout",
     "output_type": "stream",
     "text": [
      "True\n"
     ]
    }
   ],
   "source": [
    "# Check for opening and closing brackets are matching\n",
    "\n",
    "stack = []\n",
    "brackets = {'(': ')', '[': ']', '{': '}'}\n",
    "        \n",
    "for char in rule:\n",
    "    if char in brackets.keys():\n",
    "        stack.append(char)\n",
    "    elif char in brackets.values():\n",
    "        if not stack:\n",
    "            print(False)\n",
    "        if char != brackets[stack.pop()]:\n",
    "            print(False)\n",
    "            \n",
    "if stack:\n",
    "    print(False)\n",
    "else:\n",
    "    print(True)"
   ]
  },
  {
   "cell_type": "code",
   "execution_count": null,
   "metadata": {},
   "outputs": [],
   "source": []
  }
 ],
 "metadata": {
  "kernelspec": {
   "display_name": "hitech",
   "language": "python",
   "name": "python3"
  },
  "language_info": {
   "codemirror_mode": {
    "name": "ipython",
    "version": 3
   },
   "file_extension": ".py",
   "mimetype": "text/x-python",
   "name": "python",
   "nbconvert_exporter": "python",
   "pygments_lexer": "ipython3",
   "version": "3.10.14"
  }
 },
 "nbformat": 4,
 "nbformat_minor": 2
}
